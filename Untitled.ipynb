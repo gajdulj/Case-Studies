{
 "cells": [
  {
   "cell_type": "code",
   "execution_count": 89,
   "metadata": {},
   "outputs": [],
   "source": [
    "import pandas as pd\n",
    "import numpy as np\n",
    "import seaborn as sns\n",
    "import matplotlib.pyplot as plt\n",
    "%matplotlib inline"
   ]
  },
  {
   "cell_type": "code",
   "execution_count": 3,
   "metadata": {},
   "outputs": [],
   "source": [
    "df = pd.read_csv(\"BGLdata.csv\")"
   ]
  },
  {
   "cell_type": "code",
   "execution_count": 4,
   "metadata": {},
   "outputs": [
    {
     "data": {
      "text/html": [
       "<div>\n",
       "<style scoped>\n",
       "    .dataframe tbody tr th:only-of-type {\n",
       "        vertical-align: middle;\n",
       "    }\n",
       "\n",
       "    .dataframe tbody tr th {\n",
       "        vertical-align: top;\n",
       "    }\n",
       "\n",
       "    .dataframe thead th {\n",
       "        text-align: right;\n",
       "    }\n",
       "</style>\n",
       "<table border=\"1\" class=\"dataframe\">\n",
       "  <thead>\n",
       "    <tr style=\"text-align: right;\">\n",
       "      <th></th>\n",
       "      <th>ID</th>\n",
       "      <th>Age_Band</th>\n",
       "      <th>Segment</th>\n",
       "      <th>Mosaic_Group</th>\n",
       "      <th>NCD</th>\n",
       "      <th>Vehicle_Value</th>\n",
       "      <th>Vehicle_Manufacturer</th>\n",
       "      <th>BrandA_Price</th>\n",
       "      <th>BrandA_Rank</th>\n",
       "      <th>BrandA_Selected</th>\n",
       "      <th>BrandB_Price</th>\n",
       "      <th>BrandB_Rank</th>\n",
       "      <th>BrandB_Selected</th>\n",
       "      <th>BrandC_Price</th>\n",
       "      <th>BrandC_Rank</th>\n",
       "      <th>BrandC_Selected</th>\n",
       "    </tr>\n",
       "  </thead>\n",
       "  <tbody>\n",
       "    <tr>\n",
       "      <th>0</th>\n",
       "      <td>1</td>\n",
       "      <td>25-34</td>\n",
       "      <td>A</td>\n",
       "      <td>Aspiring Homemakers</td>\n",
       "      <td>2 Years</td>\n",
       "      <td>3000-4999</td>\n",
       "      <td>Ford</td>\n",
       "      <td>1219.31</td>\n",
       "      <td>47</td>\n",
       "      <td>0</td>\n",
       "      <td>1111.53</td>\n",
       "      <td>32</td>\n",
       "      <td>0</td>\n",
       "      <td>1356.79</td>\n",
       "      <td>53</td>\n",
       "      <td>0</td>\n",
       "    </tr>\n",
       "    <tr>\n",
       "      <th>1</th>\n",
       "      <td>2</td>\n",
       "      <td>45-54</td>\n",
       "      <td>B</td>\n",
       "      <td>Domestic Success</td>\n",
       "      <td>9 Years</td>\n",
       "      <td>10000-14999</td>\n",
       "      <td>Mini</td>\n",
       "      <td>213.65</td>\n",
       "      <td>24</td>\n",
       "      <td>0</td>\n",
       "      <td>205.95</td>\n",
       "      <td>15</td>\n",
       "      <td>0</td>\n",
       "      <td>321.44</td>\n",
       "      <td>65</td>\n",
       "      <td>0</td>\n",
       "    </tr>\n",
       "    <tr>\n",
       "      <th>2</th>\n",
       "      <td>3</td>\n",
       "      <td>45-54</td>\n",
       "      <td>B</td>\n",
       "      <td>Domestic Success</td>\n",
       "      <td>9 Years</td>\n",
       "      <td>10000-14999</td>\n",
       "      <td>Mini</td>\n",
       "      <td>224.40</td>\n",
       "      <td>24</td>\n",
       "      <td>0</td>\n",
       "      <td>216.70</td>\n",
       "      <td>18</td>\n",
       "      <td>0</td>\n",
       "      <td>340.61</td>\n",
       "      <td>66</td>\n",
       "      <td>0</td>\n",
       "    </tr>\n",
       "    <tr>\n",
       "      <th>3</th>\n",
       "      <td>4</td>\n",
       "      <td>45-54</td>\n",
       "      <td>B</td>\n",
       "      <td>Domestic Success</td>\n",
       "      <td>9 Years</td>\n",
       "      <td>10000-14999</td>\n",
       "      <td>Mini</td>\n",
       "      <td>222.88</td>\n",
       "      <td>19</td>\n",
       "      <td>0</td>\n",
       "      <td>222.06</td>\n",
       "      <td>16</td>\n",
       "      <td>0</td>\n",
       "      <td>370.04</td>\n",
       "      <td>69</td>\n",
       "      <td>0</td>\n",
       "    </tr>\n",
       "    <tr>\n",
       "      <th>4</th>\n",
       "      <td>5</td>\n",
       "      <td>25-34</td>\n",
       "      <td>A</td>\n",
       "      <td>Aspiring Homemakers</td>\n",
       "      <td>2 Years</td>\n",
       "      <td>3000-4999</td>\n",
       "      <td>Ford</td>\n",
       "      <td>1249.71</td>\n",
       "      <td>47</td>\n",
       "      <td>0</td>\n",
       "      <td>1140.33</td>\n",
       "      <td>31</td>\n",
       "      <td>0</td>\n",
       "      <td>1430.99</td>\n",
       "      <td>54</td>\n",
       "      <td>0</td>\n",
       "    </tr>\n",
       "  </tbody>\n",
       "</table>\n",
       "</div>"
      ],
      "text/plain": [
       "   ID Age_Band Segment         Mosaic_Group      NCD Vehicle_Value  \\\n",
       "0   1    25-34       A  Aspiring Homemakers  2 Years     3000-4999   \n",
       "1   2    45-54       B     Domestic Success  9 Years   10000-14999   \n",
       "2   3    45-54       B     Domestic Success  9 Years   10000-14999   \n",
       "3   4    45-54       B     Domestic Success  9 Years   10000-14999   \n",
       "4   5    25-34       A  Aspiring Homemakers  2 Years     3000-4999   \n",
       "\n",
       "  Vehicle_Manufacturer  BrandA_Price  BrandA_Rank  BrandA_Selected  \\\n",
       "0                 Ford       1219.31           47                0   \n",
       "1                 Mini        213.65           24                0   \n",
       "2                 Mini        224.40           24                0   \n",
       "3                 Mini        222.88           19                0   \n",
       "4                 Ford       1249.71           47                0   \n",
       "\n",
       "   BrandB_Price  BrandB_Rank  BrandB_Selected  BrandC_Price  BrandC_Rank  \\\n",
       "0       1111.53           32                0       1356.79           53   \n",
       "1        205.95           15                0        321.44           65   \n",
       "2        216.70           18                0        340.61           66   \n",
       "3        222.06           16                0        370.04           69   \n",
       "4       1140.33           31                0       1430.99           54   \n",
       "\n",
       "   BrandC_Selected  \n",
       "0                0  \n",
       "1                0  \n",
       "2                0  \n",
       "3                0  \n",
       "4                0  "
      ]
     },
     "execution_count": 4,
     "metadata": {},
     "output_type": "execute_result"
    }
   ],
   "source": [
    "df.head()"
   ]
  },
  {
   "cell_type": "code",
   "execution_count": 20,
   "metadata": {},
   "outputs": [
    {
     "name": "stdout",
     "output_type": "stream",
     "text": [
      "<class 'pandas.core.frame.DataFrame'>\n",
      "RangeIndex: 150000 entries, 0 to 149999\n",
      "Data columns (total 17 columns):\n",
      "ID                      150000 non-null int64\n",
      "Age_Band                150000 non-null object\n",
      "Segment                 150000 non-null object\n",
      "Mosaic_Group            148381 non-null object\n",
      "NCD                     150000 non-null object\n",
      "Vehicle_Value           150000 non-null object\n",
      "Vehicle_Manufacturer    150000 non-null object\n",
      "BrandA_Price            150000 non-null float64\n",
      "BrandA_Rank             150000 non-null int64\n",
      "BrandA_Selected         150000 non-null int64\n",
      "BrandB_Price            150000 non-null float64\n",
      "BrandB_Rank             150000 non-null int64\n",
      "BrandB_Selected         150000 non-null int64\n",
      "BrandC_Price            150000 non-null float64\n",
      "BrandC_Rank             150000 non-null int64\n",
      "BrandC_Selected         150000 non-null int64\n",
      "AnyBrand_Selected       150000 non-null object\n",
      "dtypes: float64(3), int64(7), object(7)\n",
      "memory usage: 19.5+ MB\n"
     ]
    }
   ],
   "source": [
    "df.info()\n",
    "#Looking at the information about data, we notice that Mosaic_Group is not populated for all customers.\n",
    "#The missing number is not significant however we have to keep in mind that there are blanks there."
   ]
  },
  {
   "cell_type": "code",
   "execution_count": 133,
   "metadata": {},
   "outputs": [],
   "source": [
    "#We add a new column to aggregate the customers who selected any of the brands\n",
    "condition = (df['BrandA_Selected']  == 1) | (df['BrandB_Selected'] == 1) | (df['BrandC_Selected'] == 1)\n",
    "df['AnyBrand_Selected'] = np.where(condition, '1', '0')"
   ]
  },
  {
   "cell_type": "code",
   "execution_count": 134,
   "metadata": {},
   "outputs": [],
   "source": [
    "selected_any = df[\"AnyBrand_Selected\"].value_counts()"
   ]
  },
  {
   "cell_type": "code",
   "execution_count": 135,
   "metadata": {},
   "outputs": [],
   "source": [
    "selected_any_perc = 100*(selected_any[1]/(selected_any[0]+selected_any[1]))"
   ]
  },
  {
   "cell_type": "code",
   "execution_count": 137,
   "metadata": {},
   "outputs": [
    {
     "name": "stdout",
     "output_type": "stream",
     "text": [
      "From all customers who searched for a quote, 33.33% selected brand A, B or C.\n"
     ]
    }
   ],
   "source": [
    "print (\"From all customers who searched for a quote, {}% selected brand A, B or C.\".format(round(selected_any_perc,2)))"
   ]
  },
  {
   "cell_type": "code",
   "execution_count": 125,
   "metadata": {},
   "outputs": [],
   "source": [
    "#To identify percentage selected for each brand\n",
    "def selected(brand):\n",
    "    return df[\"Brand{}_Selected\".format(brand)].value_counts()\n",
    "def selected_perc(brand):\n",
    "    return 100 * (selected(brand)[1]/(selected(brand)[0]+selected(brand)[1]))"
   ]
  },
  {
   "cell_type": "code",
   "execution_count": 126,
   "metadata": {},
   "outputs": [
    {
     "name": "stdout",
     "output_type": "stream",
     "text": [
      "0    145996\n",
      "1      4004\n",
      "Name: BrandA_Selected, dtype: int64\n",
      "From all customers who searched for a quote, 2.67% \n",
      "selected brand A\n",
      "0    123552\n",
      "1     26448\n",
      "Name: BrandB_Selected, dtype: int64\n",
      "From all customers who searched for a quote, 17.63% \n",
      "selected brand B\n",
      "0    130452\n",
      "1     19548\n",
      "Name: BrandC_Selected, dtype: int64\n",
      "From all customers who searched for a quote, 13.03% \n",
      "selected brand C\n"
     ]
    }
   ],
   "source": [
    "brands = [\"A\",\"B\",\"C\"]\n",
    "for brand in brands:\n",
    "    print (selected(brand))\n",
    "    print (\"From all customers who searched for a quote, {}% \".format(round(selected_perc(brand),2)))\n",
    "    print (\"selected brand {}\".format(brand))"
   ]
  },
  {
   "cell_type": "code",
   "execution_count": 169,
   "metadata": {},
   "outputs": [
    {
     "data": {
      "image/png": "[encoded data removed]",
      "text/plain": [
       "<Figure size 432x288 with 1 Axes>"
      ]
     },
     "metadata": {},
     "output_type": "display_data"
    }
   ],
   "source": [
    "# Data to plot\n",
    "plt.title('Brand selection from PCW quotes')\n",
    "labels = 'Selected A', 'Selected B', 'Selected C', 'Selected none'\n",
    "selected_all = (selected_perc('A')+selected_perc('B')+selected_perc('C'))\n",
    "sizes = [selected_perc('A'), selected_perc('B'), selected_perc('C'), (100 - (selected_all))]\n",
    "colors = ['gold', 'yellowgreen', 'lightcoral', 'lightskyblue']\n",
    "explode = (0.1, 0.1, 0.1, 0.1)  # explode 1st slice\n",
    " \n",
    "# Plot\n",
    "plt.pie(sizes, explode=explode, labels=labels, colors=colors,\n",
    "        autopct='%1.1f%%', shadow=True, startangle=140)\n",
    " \n",
    "plt.axis('equal')\n",
    "plt.show()"
   ]
  },
  {
   "cell_type": "code",
   "execution_count": 82,
   "metadata": {},
   "outputs": [
    {
     "name": "stdout",
     "output_type": "stream",
     "text": [
      "                 BrandA_Price  BrandA_Selected\n",
      "BrandA_Price          1.00000         -0.12334\n",
      "BrandA_Selected      -0.12334          1.00000\n",
      "                 BrandB_Price  BrandB_Selected\n",
      "BrandB_Price         1.000000        -0.293719\n",
      "BrandB_Selected     -0.293719         1.000000\n",
      "                 BrandC_Price  BrandC_Selected\n",
      "BrandC_Price         1.000000        -0.152503\n",
      "BrandC_Selected     -0.152503         1.000000\n"
     ]
    }
   ],
   "source": [
    "#Price elasticity of demand (PED or Ed) is a measure used in economics to show the responsiveness, or elasticity,\n",
    "#of the quantity demanded of a good or service to a change in its price when nothing but the price changes.\n",
    "#Here we notice that the impact of the price on demand across the brands is highest for brand B.\n",
    "brands = [\"A\",\"B\",\"C\"]\n",
    "for brand in brands:\n",
    "    print (df[['Brand{}_Price'.format(brand),'Brand{}_Selected'.format(brand)]].corr())"
   ]
  },
  {
   "cell_type": "code",
   "execution_count": 167,
   "metadata": {},
   "outputs": [
    {
     "name": "stdout",
     "output_type": "stream",
     "text": [
      "Brand A stats:\n",
      "count    150000.000000\n",
      "mean        752.155899\n",
      "std         646.658259\n",
      "min          93.370000\n",
      "25%         329.580000\n",
      "50%         532.800000\n",
      "75%         941.720000\n",
      "max        4999.310000\n",
      "Name: BrandA_Price, dtype: float64\n",
      "\n",
      "Brand B stats:\n",
      "count    150000.000000\n",
      "mean        703.285704\n",
      "std         619.382110\n",
      "min          92.170000\n",
      "25%         308.740000\n",
      "50%         491.035000\n",
      "75%         868.472500\n",
      "max        4986.890000\n",
      "Name: BrandB_Price, dtype: float64\n",
      "\n",
      "Brand C stats:\n",
      "count    150000.000000\n",
      "mean        666.014728\n",
      "std         513.574146\n",
      "min         240.920000\n",
      "25%         325.507500\n",
      "50%         488.710000\n",
      "75%         797.512500\n",
      "max        4920.450000\n",
      "Name: BrandC_Price, dtype: float64\n",
      "\n"
     ]
    }
   ],
   "source": [
    "#To see the current price level\n",
    "for brand in brands:\n",
    "    print (\"Brand {} stats:\".format(brand))\n",
    "    print(df['Brand{}_Price'.format(brand)].describe())\n",
    "    print('')"
   ]
  },
  {
   "cell_type": "code",
   "execution_count": null,
   "metadata": {},
   "outputs": [],
   "source": []
  }
 ],
 "metadata": {
  "kernelspec": {
   "display_name": "Python 3",
   "language": "python",
   "name": "python3"
  },
  "language_info": {
   "codemirror_mode": {
    "name": "ipython",
    "version": 3
   },
   "file_extension": ".py",
   "mimetype": "text/x-python",
   "name": "python",
   "nbconvert_exporter": "python",
   "pygments_lexer": "ipython3",
   "version": "3.6.6"
  }
 },
 "nbformat": 4,
 "nbformat_minor": 2
}
